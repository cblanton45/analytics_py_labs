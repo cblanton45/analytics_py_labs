{
 "cells": [
  {
   "cell_type": "markdown",
   "metadata": {},
   "source": [
    "# Visualizing Data\n",
    "\n",
    "Let's look at some basic visualizations in matplotlib\n",
    "\n",
    "1. Boxplot\n",
    "2. Histograms\n",
    "3. Scatterplots"
   ]
  },
  {
   "cell_type": "code",
   "execution_count": 1,
   "metadata": {
    "collapsed": true
   },
   "outputs": [],
   "source": [
    "# imports\n",
    "%matplotlib inline\n",
    "import pandas as pd\n",
    "import numpy as np\n",
    "import matplotlib.pyplot as plt"
   ]
  },
  {
   "cell_type": "markdown",
   "metadata": {},
   "source": [
    "## Boxplot"
   ]
  },
  {
   "cell_type": "code",
   "execution_count": 2,
   "metadata": {},
   "outputs": [
    {
     "data": {
      "text/plain": [
       "{'boxes': [<matplotlib.lines.Line2D at 0x10b5c4c18>],\n",
       " 'caps': [<matplotlib.lines.Line2D at 0x10b5d2fd0>,\n",
       "  <matplotlib.lines.Line2D at 0x10b333390>],\n",
       " 'fliers': [<matplotlib.lines.Line2D at 0x10b323710>],\n",
       " 'means': [],\n",
       " 'medians': [<matplotlib.lines.Line2D at 0x10b32c550>],\n",
       " 'whiskers': [<matplotlib.lines.Line2D at 0x10266bcf8>,\n",
       "  <matplotlib.lines.Line2D at 0x10b5d2e80>]}"
      ]
     },
     "execution_count": 2,
     "metadata": {},
     "output_type": "execute_result"
    },
    {
     "data": {
      "image/png": "[encoded data removed]",
      "text/plain": [
       "<matplotlib.figure.Figure at 0x10b2e2ef0>"
      ]
     },
     "metadata": {},
     "output_type": "display_data"
    }
   ],
   "source": [
    "salaries = np.array([22, 25, 30, 35, 40, 42, 45, 50, 55, 60, 65, 70])\n",
    "\n",
    "## TODO : do a boxplot of salaries\n",
    "## Hint : plot.boxplot(data)\n",
    "plt.boxplot(salaries)"
   ]
  },
  {
   "cell_type": "markdown",
   "metadata": {},
   "source": [
    "## Histograms"
   ]
  },
  {
   "cell_type": "code",
   "execution_count": 3,
   "metadata": {},
   "outputs": [
    {
     "data": {
      "text/plain": [
       "(array([ 2.,  1.,  1.,  1.,  2.,  1.,  1.,  1.,  1.,  1.]),\n",
       " array([ 22. ,  26.8,  31.6,  36.4,  41.2,  46. ,  50.8,  55.6,  60.4,\n",
       "         65.2,  70. ]),\n",
       " <a list of 10 Patch objects>)"
      ]
     },
     "execution_count": 3,
     "metadata": {},
     "output_type": "execute_result"
    },
    {
     "data": {
      "image/png": "[encoded data removed]",
      "text/plain": [
       "<matplotlib.figure.Figure at 0x10b60a550>"
      ]
     },
     "metadata": {},
     "output_type": "display_data"
    }
   ],
   "source": [
    "salaries = np.array([22, 25, 30, 35, 40, 42, 45, 50, 55, 60, 65, 70])\n",
    "\n",
    "## TODO : histogram\n",
    "## HINT : plt.hist\n",
    "plt.hist(salaries, rwidth=0.7)"
   ]
  },
  {
   "cell_type": "markdown",
   "metadata": {},
   "source": [
    "## Scatter"
   ]
  },
  {
   "cell_type": "code",
   "execution_count": 4,
   "metadata": {
    "collapsed": true
   },
   "outputs": [],
   "source": [
    "bills = np.array([50,30,60,40,65,20,10,15,25,35])\n",
    "tips= np.array([12,7,13,8,15,5,2,2,3,4])"
   ]
  },
  {
   "cell_type": "code",
   "execution_count": null,
   "metadata": {
    "collapsed": true
   },
   "outputs": [],
   "source": [
    "## TODO : plot bill vs. tips\n",
    "## Hint : plot.scatter (x axis data,   y axis data)\n",
    "\n",
    "plt.???(bills, tips)"
   ]
  },
  {
   "cell_type": "code",
   "execution_count": null,
   "metadata": {
    "collapsed": true
   },
   "outputs": [],
   "source": [
    "## TODO : add labels\n",
    "##   X-axis :  bill\n",
    "##   Y-axis : tip\n",
    "\n",
    "plt.xlabel(\"bill amount\")\n",
    "plt.ylabel(\"tip\")\n",
    "plt.???(bills, tips)"
   ]
  },
  {
   "cell_type": "code",
   "execution_count": null,
   "metadata": {
    "collapsed": true
   },
   "outputs": [],
   "source": []
  }
 ],
 "metadata": {
  "kernelspec": {
   "display_name": "Python 3",
   "language": "python",
   "name": "python3"
  },
  "language_info": {
   "codemirror_mode": {
    "name": "ipython",
    "version": 3
   },
   "file_extension": ".py",
   "mimetype": "text/x-python",
   "name": "python",
   "nbconvert_exporter": "python",
   "pygments_lexer": "ipython3",
   "version": "3.5.4"
  }
 },
 "nbformat": 4,
 "nbformat_minor": 2
}
