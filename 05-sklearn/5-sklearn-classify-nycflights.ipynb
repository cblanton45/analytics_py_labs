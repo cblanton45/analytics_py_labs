{
 "cells": [
  {
   "cell_type": "markdown",
   "metadata": {},
   "source": [
    "## Scikit-learn Classification"
   ]
  },
  {
   "cell_type": "code",
   "execution_count": null,
   "metadata": {},
   "outputs": [],
   "source": [
    "%matplotlib inline\n",
    "\n",
    "import pandas as pd\n",
    "import matplotlib.pyplot as plt\n",
    "import numpy as np\n",
    "import sklearn as sklearn\n",
    "from sklearn import linear_model, cross_validation, metrics, svm, ensemble\n",
    "from sklearn.metrics import classification_report, confusion_matrix, precision_recall_fscore_support, accuracy_score\n",
    "from sklearn.cross_validation  import train_test_split, cross_val_score, ShuffleSplit\n",
    "from sklearn.ensemble import RandomForestClassifier\n",
    "from sklearn.preprocessing import StandardScaler, OneHotEncoder\n"
   ]
  },
  {
   "cell_type": "code",
   "execution_count": null,
   "metadata": {
    "collapsed": true,
    "scrolled": true
   },
   "outputs": [],
   "source": [
    "\n",
    "\n",
    "flights = pd.read_csv('../data/nycflights13/flights.csv.gz')\n",
    "weather = pd.read_csv('../data/nycflights13/weather.csv.gz')\n",
    "airports = pd.read_csv('../data/nycflights13/airports.csv.gz')\n",
    "\n",
    "df_withweather = pd.merge(flights, weather, how='left', on=['year','month', 'day', 'hour'])\n",
    "df = pd.merge(df_withweather, airports, how='left', left_on='dest', right_on='faa')\n",
    "\n",
    "df = df.dropna()\n"
   ]
  },
  {
   "cell_type": "code",
   "execution_count": null,
   "metadata": {},
   "outputs": [],
   "source": [
    "df"
   ]
  },
  {
   "cell_type": "code",
   "execution_count": null,
   "metadata": {
    "collapsed": true
   },
   "outputs": [],
   "source": [
    "\n",
    "pred = 'dep_delay'\n",
    "features =  ['month','day','dep_time','arr_time','carrier','dest','air_time','distance', \n",
    "             'lat', 'lon', 'alt',  'dewp', 'humid', 'wind_speed', 'wind_gust', \n",
    "             'precip', 'pressure', 'visib' ]\n",
    "\n",
    "features_v = df[features]\n",
    "pred_v = df[pred]\n",
    "\n",
    "how_late_is_late = 15.0;\n",
    "\n",
    "pd.options.mode.chained_assignment = None  # default='warn'\n",
    "\n",
    "\n",
    "# carrier is not a number, so transform it into an number\n",
    "features_v['carrier'] = pd.factorize(features_v['carrier'])[0]\n",
    "\n",
    "# dest is not a number, so transform it into a number\n",
    "features_v['dest'] = pd.factorize(features_v['dest'])[0]\n",
    "\n",
    "scaler = StandardScaler()\n",
    "scaled_features_v = scaler.fit_transform(features_v)\n",
    "\n",
    "features_train, features_test, pred_train, pred_test = train_test_split(\n",
    "    scaled_features_v, pred_v, test_size=0.30, random_state=0)\n"
   ]
  },
  {
   "cell_type": "code",
   "execution_count": null,
   "metadata": {
    "scrolled": true
   },
   "outputs": [],
   "source": [
    "# Perform logistic regression for classification\n",
    "\n",
    "clf_lr = sklearn.linear_model.LogisticRegression(penalty='l2', \n",
    "                                                 class_weight='balanced')\n",
    "logistic_fit=clf_lr.fit(features_train, \n",
    "                        np.where(pred_train >= how_late_is_late,1,0))\n",
    "\n",
    "predictions = clf_lr.predict(features_test)"
   ]
  },
  {
   "cell_type": "code",
   "execution_count": null,
   "metadata": {},
   "outputs": [],
   "source": [
    "# Summary Report\n",
    "\n",
    "# Confusion Matrix\n",
    "cm_lr = confusion_matrix(np.where(pred_test >= how_late_is_late,1,0), \n",
    "                         predictions)\n",
    "print(\"Confusion matrix\")\n",
    "print(pd.DataFrame(cm_lr))\n",
    "\n",
    "# Get accuracy\n",
    "report_lr = precision_recall_fscore_support(\n",
    "    list(np.where(pred_test >= how_late_is_late,1,0)), \n",
    "    list(predictions), average='binary')\n",
    "\n",
    "#Print Accuracy\n",
    "print (\"\\nprecision = %0.2f, recall = %0.2f, F1 = %0.2f, accuracy = %0.2f\"\n",
    "       % (report_lr[0], report_lr[1], report_lr[2],                                                                         \n",
    "          accuracy_score(list(np.where(pred_test >= how_late_is_late,1,0)), \n",
    "                                                                                             list(predictions))))\n",
    "\n"
   ]
  },
  {
   "cell_type": "markdown",
   "metadata": {},
   "source": [
    "An accuracy of 67% is not particularly good. However, predicting flight delays from the data we have is not easy. "
   ]
  }
 ],
 "metadata": {
  "kernelspec": {
   "display_name": "Python 3",
   "language": "python",
   "name": "python3"
  },
  "language_info": {
   "codemirror_mode": {
    "name": "ipython",
    "version": 3
   },
   "file_extension": ".py",
   "mimetype": "text/x-python",
   "name": "python",
   "nbconvert_exporter": "python",
   "pygments_lexer": "ipython3",
   "version": "3.5.4"
  }
 },
 "nbformat": 4,
 "nbformat_minor": 1
}
