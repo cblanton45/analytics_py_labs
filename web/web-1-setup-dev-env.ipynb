{
 "cells": [
  {
   "cell_type": "markdown",
   "metadata": {},
   "source": [
    "# Lab Web 1: Getting Development Environment Ready\n",
    "In this lab we are going to setup our dev environment to develop and test web services"
   ]
  },
  {
   "cell_type": "markdown",
   "metadata": {},
   "source": [
    "## Step 1 : Check Flask\n",
    "\n",
    "Flask should be installed in Anaconda.   \n",
    "Check by\n",
    "\n",
    "```bash\n",
    "   $   python\n",
    "   > import flask\n",
    "```\n",
    "\n",
    "If not you can install as follows:\n",
    "\n",
    "**Option 1 : Anaconda environment**\n",
    "```bash\n",
    "    $   conda install flash\n",
    "```\n",
    "\n",
    "**Option 2: python env**\n",
    "```bash\n",
    "    $ pip install flask\n",
    "```\n",
    "\n",
    "  "
   ]
  },
  {
   "cell_type": "code",
   "execution_count": null,
   "metadata": {
    "collapsed": true
   },
   "outputs": [],
   "source": [
    "## Step 2 : Run basic Flask server\n",
    "Execute the following file\n",
    "```bash\n",
    "    $ cd data-analytics-python-labs\n",
    "\n",
    "    $ cd web\n",
    "\n",
    "    $ python simple-web-server.py\n",
    "\n",
    "      > * Running on http://127.0.0.1:5000/ (Press CTRL+C to quit)\n",
    "      > * Restarting with stat\n",
    "      > * Debugger is active!\n",
    "      > * Debugger PIN: 257-977-014\n",
    "```"
   ]
  },
  {
   "cell_type": "markdown",
   "metadata": {},
   "source": [
    "## Step 2 : Run basic Flask server\n",
    "Execute the following file\n",
    "```bash\n",
    "    $ cd data-analytics-python-labs\n",
    "\n",
    "    $ cd web\n",
    "\n",
    "    $ python ./simple-web-server.py\n",
    "\n",
    "      > * Running on http://127.0.0.1:5000/ (Press CTRL+C to quit)\n",
    "      > * Restarting with stat\n",
    "      > * Debugger is active!\n",
    "      > * Debugger PIN: 257-977-014\n",
    "```"
   ]
  },
  {
   "cell_type": "markdown",
   "metadata": {},
   "source": [
    "## Step 3 : Testing Web Server / Service\n",
    "For this we are going to use various methods to test the web server."
   ]
  },
  {
   "cell_type": "markdown",
   "metadata": {},
   "source": [
    "### 3.1 - Simplest Browser\n",
    "In a browser go to http://127.0.0.1:5000/   \n",
    "You should see 'hello world' response."
   ]
  },
  {
   "cell_type": "markdown",
   "metadata": {},
   "source": [
    "### 3.2 - Command Line\n",
    "This works best on Linux / Mac environments where we have good toolset installed."
   ]
  },
  {
   "cell_type": "markdown",
   "metadata": {},
   "source": [
    "#### Curl\n",
    "Curl is old-school.\n",
    "\n",
    "```bash\n",
    "    $  curl http://127.0.0.1:5000/\n",
    "```"
   ]
  },
  {
   "cell_type": "markdown",
   "metadata": {},
   "source": [
    "#### httpie\n",
    "This is more modern version.  \n",
    "https://github.com/jakubroztocil/httpie\n",
    "\n",
    "ON Mac install using brew\n",
    "```bash\n",
    "     $ brew install httpie\n",
    "```\n",
    "\n",
    "On Linux\n",
    "```bash\n",
    "     $  pip install httpie\n",
    "```\n",
    "\n",
    "**Usage**\n",
    "\n",
    "```bash\n",
    "   $ http http://127.0.0.1:5000/\n",
    "        HTTP/1.0 200 OK\n",
    "        Content-Length: 13\n",
    "        Content-Type: text/html; charset=utf-8\n",
    "        Date: Wed, 18 Apr 2018 18:29:49 GMT\n",
    "        Server: Werkzeug/0.14.1 Python/3.6.4\n",
    "\n",
    "        Hello, World!\n",
    "```\n"
   ]
  },
  {
   "cell_type": "markdown",
   "metadata": {},
   "source": [
    "### 3.3 - Rest Clients \n",
    "These browser extensions are really great to test web services very easily.  \n",
    "You can try the following chrome extensions\n",
    "- [Advanced Rest Client](https://chrome.google.com/webstore/detail/advanced-rest-client/hgmloofddffdnphfgcellkdfbfbjeloo/related?hl=en-US)\n",
    "- ???\n",
    "\n",
    "Go ahead and install one of the clients and try to go to the URL."
   ]
  },
  {
   "cell_type": "markdown",
   "metadata": {},
   "source": [
    "### 3.4 : Python command line\n",
    "And finally we need to be able to test our webservice from Python.  \n",
    "We will be using `httplib2` library.  \n",
    "Install it as \n",
    "\n",
    "```bash\n",
    "   $ pip install httplib2\n",
    "```\n",
    "\n",
    "And try the following python code.  \n",
    "Then try going to google.com  to see the response. "
   ]
  },
  {
   "cell_type": "code",
   "execution_count": null,
   "metadata": {},
   "outputs": [],
   "source": [
    "import httplib2\n",
    "from pprint import pprint\n",
    "\n",
    "h = httplib2.Http('.cache')\n",
    "response, content = h.request('http://127.0.0.1:5000/')\n",
    "#response, content = h.request('http://www.google.com/')\n",
    "print(\"-----headers----\")\n",
    "pprint(response)\n",
    "print('-----content----')\n",
    "pprint(content)"
   ]
  },
  {
   "cell_type": "markdown",
   "metadata": {},
   "source": [
    "### 3.5  Make a better WebService.\n",
    "\n",
    "Our webservice is pretty lame!  All it does is say Hello World!  We can do better than that.\n",
    "\n",
    "Let's first try making a better webservice.  Let's define some an object we are going to do.  In real life, we might store this in a database or something but here we'll just do it as a list.  \n",
    "\n",
    "Remember, in REST, we have entities that corespond to URLs in our app. So, for us, we'll have an entity called a task (representing todo items).\n"
   ]
  },
  {
   "cell_type": "markdown",
   "metadata": {},
   "source": [
    "\n",
    "In our code, add the following:\n",
    "\n",
    "```python\n",
    "\n",
    "tasks = [\n",
    "    {\n",
    "        'id': 1,\n",
    "        'title': u'Go to store',\n",
    "        'description': u'Bread, Milk, Coffee', \n",
    "        'done': False\n",
    "    },\n",
    "    {\n",
    "        'id': 2,\n",
    "        'title': u'Learn Web Services',\n",
    "        'description': u'Learn Something about Flask', \n",
    "        'done': False\n",
    "    }\n",
    "]\n",
    "\n",
    "```"
   ]
  },
  {
   "cell_type": "markdown",
   "metadata": {},
   "source": [
    "Now we need to add the following to make a REST endpoint for our service:\n",
    "\n",
    "```python\n",
    "\n",
    "@app.route('/todo/api/v1.0/tasks', methods=['GET'])\n",
    "def get_tasks():\n",
    "    return jsonify({'tasks': tasks})\n",
    "\n",
    "```"
   ]
  },
  {
   "cell_type": "markdown",
   "metadata": {},
   "source": [
    "###  3.6 Test the web server\n",
    "\n",
    "Now we need to test the new endpoint. You can try running the following code, or using your favorite way to test web service endpoints (curl, etc)"
   ]
  },
  {
   "cell_type": "code",
   "execution_count": null,
   "metadata": {},
   "outputs": [],
   "source": [
    "import requests\n",
    "r = requests.get('http://127.0.0.1:5000/todo/api/v1.0/tasks')\n",
    "r.json()"
   ]
  },
  {
   "cell_type": "markdown",
   "metadata": {},
   "source": [
    "### 3.7 Add a new functionality\n",
    "\n",
    "So we now have a GET endpoint for tasks. We can get all tasks.  what if we want to get a particular task? \n",
    "\n",
    "Try this:\n",
    "\n",
    "```python\n",
    "\n",
    "from flask import abort\n",
    "\n",
    "@app.route('/todo/api/v1.0/tasks/<int:task_id>', methods=['GET'])\n",
    "def get_task(task_id):\n",
    "    task = [task for task in tasks if task['id'] == task_id]\n",
    "    if len(task) == 0:\n",
    "        abort(404)\n",
    "    return jsonify({'task': task[0]})\n",
    "```"
   ]
  },
  {
   "cell_type": "markdown",
   "metadata": {},
   "source": [
    "### 3.8 Test the new functionality\n",
    "\n",
    "Run the following code to test the functionality (or use curl or something else)"
   ]
  },
  {
   "cell_type": "code",
   "execution_count": null,
   "metadata": {
    "collapsed": true
   },
   "outputs": [],
   "source": [
    "import requests\n",
    "r = requests.get('http://127.0.0.1:5000/todo/api/v1.0/tasks/2')\n",
    "r.json()"
   ]
  },
  {
   "cell_type": "code",
   "execution_count": null,
   "metadata": {
    "collapsed": true
   },
   "outputs": [],
   "source": []
  }
 ],
 "metadata": {
  "kernelspec": {
   "display_name": "Python 3",
   "language": "python",
   "name": "python3"
  },
  "language_info": {
   "codemirror_mode": {
    "name": "ipython",
    "version": 3
   },
   "file_extension": ".py",
   "mimetype": "text/x-python",
   "name": "python",
   "nbconvert_exporter": "python",
   "pygments_lexer": "ipython3",
   "version": "3.5.4"
  }
 },
 "nbformat": 4,
 "nbformat_minor": 2
}
