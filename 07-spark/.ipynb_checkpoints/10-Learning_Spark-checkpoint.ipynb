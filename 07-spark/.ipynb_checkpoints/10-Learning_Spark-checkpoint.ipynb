{
 "cells": [
  {
   "cell_type": "markdown",
   "metadata": {},
   "source": [
    "# Beginning Spark\n",
    "\n",
    "We will be analyzing clickstream data to learn how to use Spark.\n",
    "\n",
    "Example:\n",
    "\n",
    "{\"session\": \"session_36\", \"domain\": \"youtube.com\", \"cost\": 118, \"user\": \"user_9\", \"campaign\": \"campaign_19\", \"ip\": \"ip_4\", \"action\": \"clicked\", \"timestamp\": 1420070400000}\n",
    "{\"session\": \"session_96\", \"domain\": \"facebook.com\", \"cost\": 5, \"user\": \"user_5\", \"campaign\": \"campaign_12\", \"ip\": \"ip_3\", \"action\": \"blocked\", \"timestamp\": 1420070400864}\n"
   ]
  },
  {
   "cell_type": "code",
   "execution_count": null,
   "metadata": {},
   "outputs": [],
   "source": [
    "clickstreamDF = spark.read.json(\"../data/click-stream/clickstream.json\")"
   ]
  },
  {
   "cell_type": "code",
   "execution_count": null,
   "metadata": {},
   "outputs": [],
   "source": [
    "clickstreamDF.printSchema()"
   ]
  },
  {
   "cell_type": "code",
   "execution_count": null,
   "metadata": {},
   "outputs": [],
   "source": [
    "clickstreamDF.show()"
   ]
  },
  {
   "cell_type": "markdown",
   "metadata": {},
   "source": [
    "### Query and Filter Operations\n",
    "\n",
    "Let us see how to do some query and filter operations"
   ]
  },
  {
   "cell_type": "code",
   "execution_count": null,
   "metadata": {
    "scrolled": true
   },
   "outputs": [],
   "source": [
    "clickstreamDF.filter(\"cost > 100\").show()"
   ]
  },
  {
   "cell_type": "code",
   "execution_count": null,
   "metadata": {},
   "outputs": [],
   "source": [
    "clickstreamDF.filter(\"action == 'clicked'\").show()"
   ]
  },
  {
   "cell_type": "code",
   "execution_count": null,
   "metadata": {},
   "outputs": [],
   "source": [
    "clickstreamDF.groupBy(\"domain\").count().show()"
   ]
  },
  {
   "cell_type": "markdown",
   "metadata": {},
   "source": [
    "\n",
    "## STEP 7 : Joining Dataframes\n",
    "\n",
    "Let's load another data set `domain info`\n",
    "The data is in   `data/click-stream/domain-info.json`\n",
    "The data looks like this:\n",
    "\n",
    "```console\n",
    "\n",
    "    {\"domain\":\"amazon.com\",\"category\":\"SHOPPING\"}\n",
    "    {\"domain\":\"bbc.co.uk\",\"category\":\"NEWS\"}\n",
    "    {\"domain\":\"facebook.com\",\"category\":\"SOCIAL\"}\n",
    "    ...\n",
    "```"
   ]
  },
  {
   "cell_type": "code",
   "execution_count": null,
   "metadata": {},
   "outputs": [],
   "source": [
    "domainsDF = spark.read.json(\"../data/click-stream/domain-info.json\")\n",
    "domainsDF.show()"
   ]
  },
  {
   "cell_type": "code",
   "execution_count": null,
   "metadata": {
    "scrolled": false
   },
   "outputs": [],
   "source": [
    "# Let's do an inner join\n",
    "\n",
    "from pyspark.sql.functions import *\n",
    "\n",
    "joined = clickstreamDF.join(domainsDF, clickstreamDF['domain'] == domainsDF['domain'])\n",
    "joined.show()"
   ]
  },
  {
   "cell_type": "code",
   "execution_count": null,
   "metadata": {},
   "outputs": [],
   "source": [
    "# Let's do an outer join.\n",
    "\n",
    "joinedOuter = clickstreamDF.join(domainsDF, clickstreamDF['domain'] == domainsDF['domain'], 'outer')\n",
    "joinedOuter.show()"
   ]
  },
  {
   "cell_type": "code",
   "execution_count": null,
   "metadata": {
    "collapsed": true
   },
   "outputs": [],
   "source": []
  }
 ],
 "metadata": {
  "kernelspec": {
   "display_name": "Python 3",
   "language": "python",
   "name": "python3"
  },
  "language_info": {
   "codemirror_mode": {
    "name": "ipython",
    "version": 3
   },
   "file_extension": ".py",
   "mimetype": "text/x-python",
   "name": "python",
   "nbconvert_exporter": "python",
   "pygments_lexer": "ipython3",
   "version": "3.5.4"
  }
 },
 "nbformat": 4,
 "nbformat_minor": 1
}
